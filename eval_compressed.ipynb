{
 "cells": [
  {
   "cell_type": "code",
   "execution_count": null,
   "metadata": {},
   "outputs": [],
   "source": [
    "from xopen import xopen\n",
    "import numpy as np\n",
    "import json\n",
    "from tqdm import tqdm\n",
    "from transformers import T5TokenizerFast\n",
    "import matplotlib.pyplot as plt\n",
    "from transformers import T5Tokenizer\n",
    "import numpy as np\n",
    "import tiktoken\n",
    "from IPython.core.display import display, HTML\n",
    "from matplotlib.colors import LinearSegmentedColormap\n",
    "tokenizer = tiktoken.encoding_for_model(\"gpt-3.5-turbo\")\n",
    "t5_tok = T5TokenizerFast.from_pretrained(\"t5-base\")"
   ]
  },
  {
   "cell_type": "code",
   "execution_count": null,
   "metadata": {},
   "outputs": [],
   "source": [
    "with open('token_scores/base_token_scores_list_nq_dpr_dev_20_oneContextFalse.pkl', 'rb') as f:\n",
    "    token_scores = np.load(f, allow_pickle=True)\n",
    "with open('token_scores/base_token_scores_list_nq_dpr_dev_20_ours.pkl', 'rb') as f:\n",
    "    token_scores_ours = np.load(f, allow_pickle=True)\n",
    "with open('../eun_FiD/open_domain_data/nq/dev.json') as f:\n",
    "    dev = json.load(f)\n",
    "    "
   ]
  },
  {
   "cell_type": "code",
   "execution_count": null,
   "metadata": {},
   "outputs": [],
   "source": [
    "with open('../eun_FiD/open_domain_data/nq/test_oracle.json') as f:\n",
    "    test_oracle = json.load(f)"
   ]
  },
  {
   "cell_type": "code",
   "execution_count": null,
   "metadata": {},
   "outputs": [],
   "source": [
    "with open('token_scores/base_token_scores_list_nq_test_oracle_20_ours.pkl', 'rb') as f:\n",
    "    token_scores_ours_oracle = np.load(f, allow_pickle=True)"
   ]
  },
  {
   "cell_type": "code",
   "execution_count": null,
   "metadata": {},
   "outputs": [],
   "source": [
    "for i in tqdm(range(len(token_scores))):\n",
    "    if not (token_scores[i][1][0][10][:20] == token_scores_ours[i][1][0][10][:20]).sum():\n",
    "        print(i)\n",
    "        # break"
   ]
  },
  {
   "cell_type": "code",
   "execution_count": null,
   "metadata": {},
   "outputs": [],
   "source": [
    "qas_i = 0\n",
    "batch_token_scores, batch_tokens_ids = token_scores_ours[qas_i]\n",
    "len(batch_token_scores)\n",
    "\n",
    "len(batch_token_scores)"
   ]
  },
  {
   "cell_type": "code",
   "execution_count": null,
   "metadata": {},
   "outputs": [],
   "source": [
    "len(passage_tokens), len(np.array(passage_scores)[:len(passage_tokens)])"
   ]
  },
  {
   "cell_type": "code",
   "execution_count": null,
   "metadata": {},
   "outputs": [],
   "source": [
    "\n",
    "# Flatten the scores to get min and max\n",
    "# all_scores = [score for sublist in batch_token_scores for score in sublist]\n",
    "# min_score = min(all_scores)\n",
    "# max_score = max(all_scores)\n",
    "\n",
    "# Custom color map including white for low scores\n",
    "# colors = [\"#FFFFFF\", \"#E8A0BF\", \"#BA90C6\", \"#C0DBEA\"]\n",
    "\n",
    "# Function to map scores to colors\n",
    "def score_to_color(score, min_score, max_score, cmap):\n",
    "    norm_score = (score - min_score) / (max_score - min_score)  # Normalize score to 0-1\n",
    "    color = cmap(norm_score, bytes=True)  # Using the custom colormap\n",
    "    return f'rgba({color[0]}, {color[1]}, {color[2]}, {color[3] / 255})'  # Convert to rgba string"
   ]
  },
  {
   "cell_type": "code",
   "execution_count": null,
   "metadata": {},
   "outputs": [],
   "source": [
    "indices_looking_for = []\n",
    "for qas_i in range(2655):\n",
    "    batch_token_scores, batch_tokens_ids = token_scores_ours_oracle[qas_i]\n",
    "    if len(batch_token_scores[0]) < 130 and len(batch_token_scores[0]) > 100 and batch_token_scores[0][0] < np.mean(batch_token_scores):\n",
    "        indices_looking_for.append(qas_i)\n",
    "print(len(indices_looking_for))"
   ]
  },
  {
   "cell_type": "code",
   "execution_count": null,
   "metadata": {},
   "outputs": [],
   "source": [
    "from src.compress_utils import *"
   ]
  },
  {
   "cell_type": "code",
   "execution_count": null,
   "metadata": {},
   "outputs": [],
   "source": [
    "for scores in batch_token_scores:\n",
    "    break\n",
    "print(scores)"
   ]
  },
  {
   "cell_type": "code",
   "execution_count": null,
   "metadata": {},
   "outputs": [],
   "source": []
  },
  {
   "cell_type": "code",
   "execution_count": null,
   "metadata": {},
   "outputs": [],
   "source": [
    "indices_looking_for = []\n",
    "for qas_i in range(len(dev)):\n",
    "    batch_token_scores, batch_tokens_ids = token_scores_ours[qas_i]\n",
    "    ctx_scores = get_ctx_scores(np.array(batch_token_scores), 'mean', 'include', False, t5_tok, \"\", \"\", \"\")\n",
    "    first_i = np.argmax(ctx_scores)\n",
    "    second_i = np.argmin(ctx_scores)\n",
    "    qas = dev[qas_i]\n",
    "    if qas['ctxs'][first_i]['has_answer'] and not qas['ctxs'][second_i]['has_answer']:\n",
    "        if np.where(batch_tokens_ids[0][first_i] == 1)[0] < 140 and np.where(batch_tokens_ids[0][first_i] == 1)[0] > 70:\n",
    "            if np.where(batch_tokens_ids[0][second_i] == 1)[0] < 140 and np.where(batch_tokens_ids[0][second_i] == 1)[0] > 70:\n",
    "                indices_looking_for.append((qas_i, first_i, second_i))\n",
    "print(len(indices_looking_for))"
   ]
  },
  {
   "cell_type": "code",
   "execution_count": null,
   "metadata": {},
   "outputs": [],
   "source": [
    "t5_tok.encode('context: ')"
   ]
  },
  {
   "cell_type": "code",
   "execution_count": null,
   "metadata": {},
   "outputs": [],
   "source": [
    "qas_i, first_i, second_i = indices_looking_for[0]\n",
    "qas = dev[qas_i]\n",
    "print(qas_i)\n",
    "batch_token_scores, batch_tokens_ids = token_scores_ours[qas_i]\n",
    "\n",
    "decoded_tokens = []\n",
    "passage_lens = []\n",
    "for passage in batch_tokens_ids[0]:  # Skip the batch dimension\n",
    "    # start_token_index = np.where(passage == 2233)[0][0]\n",
    "    start_token_index = np.where(passage == 2625)[0][0] + 2 ## 2625: context\n",
    "\n",
    "    len_passage = np.where(passage == 1)[0][0]\n",
    "    passage_lens.append(len_passage)\n",
    "    passage = passage[start_token_index:len_passage]\n",
    "    decoded_passage = t5_tok.decode(passage, skip_special_tokens=True)\n",
    "    decoded_tokens.append(decoded_passage.split())\n",
    "\n",
    "colors = [\"#FFFFFF\", \"#BA68C8\"]\n",
    "cmap = LinearSegmentedColormap.from_list(\"custom_cmap\", colors)\n",
    "\n",
    "passage_tokens_list = [decoded_tokens[first_i], decoded_tokens[second_i]]\n",
    "passage_scores_list = [passage_score[start_token_index:passage_lens[p_i]] for p_i, passage_score in enumerate(batch_token_scores) if p_i in set([first_i, second_i])]\n",
    "\n",
    "# Create the HTML visualization for a single passage\n",
    "\n",
    "html_content = '<div style=\"font-family: \\'Times New Roman\\'; line-height: 1.4; background-color: white; padding: 5px;\">'\n",
    "min_score = np.concatenate(passage_scores_list).min()\n",
    "max_score = np.concatenate(passage_scores_list).max()\n",
    "passage_scores_norm =  np.log1p(np.concatenate(passage_scores_list) - min_score)\n",
    "min_score = passage_scores_norm.min()\n",
    "passage_scores_norm =  np.log1p(passage_scores_norm - min_score)\n",
    "min_score = passage_scores_norm.min()\n",
    "max_score = passage_scores_norm.max()\n",
    "passage_scores_norm =  np.log1p(passage_scores_norm - min_score)\n",
    "min_score = passage_scores_norm.min()\n",
    "max_score = passage_scores_norm.max()\n",
    "passage_scores_norm =  np.log1p(passage_scores_norm - min_score)\n",
    "min_score = passage_scores_norm.min()\n",
    "max_score = passage_scores_norm.max()\n",
    "passage_scores_norm =  np.log1p(passage_scores_norm - min_score)\n",
    "min_score = passage_scores_norm.min()\n",
    "max_score = passage_scores_norm.max()\n",
    "passage_scores_norm =  np.log1p(passage_scores_norm - min_score)\n",
    "min_score = passage_scores_norm.min()\n",
    "max_score = passage_scores_norm.max()\n",
    "passage_scores_norm =  np.log1p(passage_scores_norm - min_score)\n",
    "min_score = passage_scores_norm.min()\n",
    "max_score = passage_scores_norm.max()\n",
    "passage_scores_norm =  np.log1p(passage_scores_norm - min_score)\n",
    "min_score = passage_scores_norm.min()\n",
    "max_score = passage_scores_norm.max()\n",
    "\n",
    "\n",
    "passage_scores_list = [passage_scores_norm[:passage_lens[first_i]], passage_scores_norm[passage_lens[first_i]:]]\n",
    "\n",
    "\n",
    "# passage_scores = [np.log1p(score - min_score) for score in passage_scores]\n",
    "# Prepare HTML content with highlighting\n",
    "for passage_tokens, passage_scores in zip(passage_tokens_list, passage_scores_list):\n",
    "    for token, score in zip(passage_tokens, passage_scores):\n",
    "        color = score_to_color(np.array(score), min_score, max_score, cmap)\n",
    "        # html_content += f'<span style=\"background-color: {color}; padding: 1px 2px; margin: 1px; border-radius: 2px;\">{token}</span> '\n",
    "        html_content += f'<span style=\"background-color: {color}; color: black; padding: 1px 2px; margin: 0.3px; border-radius: 2px;\">{token}</span> '\n",
    "    html_content += '</br>'\n",
    "html_content += '</div>'\n",
    "\n",
    "# Display the HTML\n",
    "print(qas['question'], qas['answers'])\n",
    "display(HTML(html_content))"
   ]
  },
  {
   "cell_type": "code",
   "execution_count": 78,
   "metadata": {},
   "outputs": [
    {
     "data": {
      "image/png": "[encoded data removed]",
      "text/plain": [
       "<Figure size 400x300 with 1 Axes>"
      ]
     },
     "metadata": {},
     "output_type": "display_data"
    }
   ],
   "source": []
  },
  {
   "cell_type": "code",
   "execution_count": null,
   "metadata": {},
   "outputs": [],
   "source": [
    "color = score_to_color(score, min_score, max_score)\n",
    "for c in color:\n",
    "    print(c, end='/')"
   ]
  },
  {
   "cell_type": "code",
   "execution_count": null,
   "metadata": {},
   "outputs": [],
   "source": [
    "qas_i = 10\n",
    "batch_token_scores, batch_tokens_ids = token_scores_ours_oracle[qas_i]\n",
    "\n",
    "decoded_tokens = []\n",
    "for passage in batch_tokens_ids[0]:  # Skip the batch dimension\n",
    "    decoded_passage = t5_tok.decode(passage, skip_special_tokens=True)\n",
    "    decoded_tokens.append(decoded_passage.split())\n",
    "# Custom color map from white to a vivid version of #BA90C6\n",
    "colors = [\"#FFFFFF\", \"#BA68C8\"]\n",
    "cmap = LinearSegmentedColormap.from_list(\"custom_cmap\", colors)\n",
    "\n",
    "# Function to map transformed scores to colors\n",
    "def score_to_color_v2(score, min_score, max_score):\n",
    "    norm_score = (score - min_score) / (max_score - min_score)  # Normalize score to 0-1\n",
    "    color = cmap(norm_score)  # Using the custom colormap\n",
    "    return color  # Return normalized rgba values\n",
    "\n",
    "# Create the visualization for a single passage\n",
    "passage_tokens = decoded_tokens[0]\n",
    "passage_scores = [np.log1p(score - min_score) for score in batch_token_scores[0]]\n",
    "min_score = min(all_scores)\n",
    "max_score = max(all_scores)\n",
    "fig, ax = plt.subplots(figsize=(20, 10))\n",
    "x, y = 0, 1\n",
    "line_height = 1.2\n",
    "min_score = min(passage_scores)\n",
    "max_score = max(passage_scores)\n",
    "for token, score in zip(passage_tokens, passage_scores):\n",
    "    color = score_to_color_v2(score, min_score, max_score)\n",
    "    ax.text(x, y, token, fontsize=12, bbox=dict(facecolor=color, edgecolor=color, alpha=0.5, boxstyle=\"round,pad=0.3\"))\n",
    "    x += len(token) * 0.05  # Adjust the spacing between words\n",
    "    if x > 15:  # Move to the next line if the current line is too long\n",
    "        x = 0\n",
    "        y -= line_height\n",
    "\n",
    "ax.axis('off')  # Hide axes\n",
    "\n",
    "# Save the figure as a high-resolution PNG file\n",
    "plt.savefig('output.png', dpi=5, bbox_inches='tight')\n",
    "plt.show()"
   ]
  },
  {
   "cell_type": "code",
   "execution_count": null,
   "metadata": {},
   "outputs": [],
   "source": [
    "min_score, max_score"
   ]
  },
  {
   "cell_type": "code",
   "execution_count": null,
   "metadata": {},
   "outputs": [],
   "source": [
    "#!/usr/bin/env python3\n",
    "import string\n",
    "from typing import List\n",
    "\n",
    "import regex\n",
    "\n",
    "\n",
    "def normalize_answer(s: str) -> str:\n",
    "    \"\"\"Normalization from the SQuAD evaluation script.\n",
    "\n",
    "    See https://worksheets.codalab.org/rest/bundles/0x6b567e1cf2e041ec80d7098f031c5c9e/contents/blob/\n",
    "    \"\"\"\n",
    "\n",
    "    def remove_articles(text):\n",
    "        return regex.sub(r\"\\b(a|an|the)\\b\", \" \", text)\n",
    "\n",
    "    def white_space_fix(text):\n",
    "        return \" \".join(text.split())\n",
    "\n",
    "    def remove_punc(text):\n",
    "        exclude = set(string.punctuation)\n",
    "        return \"\".join(ch for ch in text if ch not in exclude)\n",
    "\n",
    "    def lower(text):\n",
    "        return text.lower()\n",
    "\n",
    "    return white_space_fix(remove_articles(remove_punc(lower(s))))\n",
    "\n",
    "\n",
    "def best_subspan_em(prediction: str, ground_truths: List[str]) -> float:\n",
    "    normalized_prediction = normalize_answer(prediction)\n",
    "\n",
    "    for ground_truth in ground_truths:\n",
    "        normalized_ground_truth = normalize_answer(ground_truth)\n",
    "        if normalized_ground_truth.lower() in normalized_prediction.lower():\n",
    "            return 1.0\n",
    "    return 0.0\n"
   ]
  },
  {
   "cell_type": "code",
   "execution_count": null,
   "metadata": {},
   "outputs": [],
   "source": [
    "compressed = []\n",
    "with open('qa_data/nq-open-oracle-compressed_60.jsonl') as f:\n",
    "    for line in f:\n",
    "        compressed.append(json.loads(line))\n",
    "\n",
    "with xopen('qa_data/nq-open-oracle_60.jsonl.gz', 'w') as f:\n",
    "    for line in tqdm(compressed):\n",
    "        f.write(json.dumps(line) + '\\n')"
   ]
  },
  {
   "cell_type": "code",
   "execution_count": null,
   "metadata": {},
   "outputs": [],
   "source": [
    "compressed_200 = []\n",
    "with xopen('qa_data/oracle_comp/nq-open-oracle-compressed_200.jsonl.gz') as f:\n",
    "    for line in f:\n",
    "        compressed_200.append(json.loads(line))\n",
    "\n",
    "compressed_190 = []\n",
    "with xopen('qa_data/oracle_comp/nq-open-oracle-compressed_190.jsonl.gz') as f:\n",
    "    for line in f:\n",
    "        compressed_190.append(json.loads(line))\n",
    "\n",
    "compressed_180 = []\n",
    "with xopen('qa_data/oracle_comp/nq-open-oracle-compressed_180.jsonl.gz') as f:\n",
    "    for line in f:\n",
    "        compressed_180.append(json.loads(line))\n",
    "\n",
    "compressed_170 = []\n",
    "with xopen('qa_data/oracle_comp/nq-open-oracle-compressed_170.jsonl.gz') as f:\n",
    "    for line in f:\n",
    "        compressed_170.append(json.loads(line))\n",
    "        \n",
    "compressed_160 = []\n",
    "with xopen('qa_data/oracle_comp/nq-open-oracle-compressed_160.jsonl.gz') as f:\n",
    "    for line in f:\n",
    "        compressed_160.append(json.loads(line))\n",
    "\n",
    "compressed_150 = []\n",
    "with xopen('qa_data/oracle_comp/nq-open-oracle-compressed_150.jsonl.gz') as f:\n",
    "    for line in f:\n",
    "        compressed_150.append(json.loads(line))\n",
    "        \n",
    "compressed_140 = []\n",
    "with xopen('qa_data/oracle_comp/nq-open-oracle-compressed_140.jsonl.gz') as f:\n",
    "    for line in f:\n",
    "        compressed_140.append(json.loads(line))\n",
    "\n",
    "compressed_130 = []\n",
    "with xopen('qa_data/oracle_comp/nq-open-oracle-compressed_130.jsonl.gz') as f:\n",
    "    for line in f:\n",
    "        compressed_130.append(json.loads(line))\n",
    "\n",
    "compressed_120 = []\n",
    "with xopen('qa_data/oracle_comp/nq-open-oracle-compressed_120.jsonl.gz') as f:\n",
    "    for line in f:\n",
    "        compressed_120.append(json.loads(line))\n",
    "\n",
    "compressed_100 = []\n",
    "with xopen('qa_data/oracle_comp/nq-open-oracle-compressed_100.jsonl.gz') as f:\n",
    "    for line in f:\n",
    "        compressed_100.append(json.loads(line))\n",
    "\n",
    "compressed_80 = []\n",
    "with xopen('qa_data/oracle_comp/nq-open-oracle-compressed_80.jsonl.gz') as f:\n",
    "    for line in f:\n",
    "        compressed_80.append(json.loads(line))\n",
    "\n",
    "compressed_60 = []\n",
    "with xopen('qa_data/oracle_comp/nq-open-oracle-compressed_60.jsonl.gz') as f:\n",
    "    for line in f:\n",
    "        compressed_60.append(json.loads(line))\n",
    "\n",
    "oracle = []\n",
    "with xopen('qa_data/nq-open-oracle.jsonl.gz') as f:\n",
    "    for line in f:\n",
    "        oracle.append(json.loads(line))"
   ]
  },
  {
   "cell_type": "code",
   "execution_count": null,
   "metadata": {},
   "outputs": [],
   "source": [
    "compressed_80[0]"
   ]
  },
  {
   "cell_type": "code",
   "execution_count": null,
   "metadata": {},
   "outputs": [],
   "source": [
    "fid_4 = []\n",
    "with xopen('qa_data/nq-open-oracle_fid_0.4.jsonl.gz') as f:\n",
    "    for line in f:\n",
    "        fid_4.append(json.loads(line))\n",
    "\n",
    "fid_5 = []\n",
    "with xopen('qa_data/nq-open-oracle_fid_0.5.jsonl.gz') as f:\n",
    "    for line in f:\n",
    "        fid_5.append(json.loads(line))\n",
    "\n",
    "fid_6 = []\n",
    "with xopen('qa_data/nq-open-oracle_fid_0.6.jsonl.gz') as f:\n",
    "    for line in f:\n",
    "        fid_6.append(json.loads(line))\n",
    "\n",
    "fid_7 = []\n",
    "with xopen('qa_data/nq-open-oracle_fid_0.7.jsonl.gz') as f:\n",
    "    for line in f:\n",
    "        fid_7.append(json.loads(line))\n",
    "\n",
    "fid_8 = []\n",
    "with xopen('qa_data/nq-open-oracle_fid_0.8.jsonl.gz') as f:\n",
    "    for line in f:\n",
    "        fid_8.append(json.loads(line))\n",
    "\n",
    "fid_9 = []\n",
    "with xopen('qa_data/nq-open-oracle_fid_0.9.jsonl.gz') as f:\n",
    "    for line in f:\n",
    "        fid_9.append(json.loads(line))\n"
   ]
  },
  {
   "cell_type": "code",
   "execution_count": null,
   "metadata": {},
   "outputs": [],
   "source": [
    "fid_9 = []\n",
    "with xopen('qa_data/nq-open-oracle_fid_0.9_new.jsonl.gz') as f:\n",
    "    for line in f:\n",
    "        fid_9.append(json.loads(line))\n"
   ]
  },
  {
   "cell_type": "code",
   "execution_count": null,
   "metadata": {},
   "outputs": [],
   "source": [
    "compressed_tfidf100 = []\n",
    "with xopen('qa_data/nq-open-oracle-compressed-tfidf-1.0.jsonl.gz') as f:\n",
    "    for line in f:\n",
    "        compressed_tfidf100.append(json.loads(line))\n",
    "\n",
    "compressed_tfidf50 = []\n",
    "with xopen('qa_data/nq-open-oracle-compressed-tfidf-0.5.jsonl.gz') as f:\n",
    "    for line in f:\n",
    "        compressed_tfidf50.append(json.loads(line))\n",
    "\n",
    "compressed_tfidf20 = []\n",
    "with xopen('qa_data/nq-open-oracle-compressed-tfidf-0.2.jsonl.gz') as f:\n",
    "    for line in f:\n",
    "        compressed_tfidf20.append(json.loads(line))\n",
    "\n",
    "compressed_tfidf10 = []\n",
    "with xopen('qa_data/nq-open-oracle-compressed-tfidf-0.1.jsonl.gz') as f:\n",
    "    for line in f:\n",
    "        compressed_tfidf10.append(json.loads(line))\n",
    "\n",
    "compressed_tfidf5 = []\n",
    "with xopen('qa_data/nq-open-oracle-compressed-tfidf-0.05.jsonl.gz') as f:\n",
    "    for line in f:\n",
    "        compressed_tfidf5.append(json.loads(line))\n"
   ]
  },
  {
   "cell_type": "code",
   "execution_count": null,
   "metadata": {},
   "outputs": [],
   "source": [
    "llama_preds_closed = []\n",
    "with xopen('qa_predictions/nq-open-oracle-Llama-2-13b-chat-hf-closedbook-predictions.jsonl.gz') as f:\n",
    "    for line in f:\n",
    "        llama_preds_closed.append(json.loads(line))\n",
    "\n",
    "llama_preds = []\n",
    "with xopen('qa_predictions/nq-open-oracle-llama-2-13b-chat-hf-predictions.jsonl.gz') as f:\n",
    "    for line in f:\n",
    "        llama_preds.append(json.loads(line))\n",
    "        \n",
    "llama_preds_comp_100 = []\n",
    "with xopen('qa_predictions/nq-open-oracle-compressed-100-Llama-2-13b-chat-hf-predictions.jsonl.gz_2') as f:\n",
    "    for line in f:\n",
    "        llama_preds_comp_100.append(json.loads(line))\n",
    "        \n",
    "# cnt = 0\n",
    "# correct_list = []\n",
    "# correct_compt_list = []\n",
    "qas_indices = []\n",
    "# org_ctx_len = []\n",
    "# comp_ctx_len = []\n",
    "# equal_prompt_diff_ans = []\n",
    "for qas_i, (qas, qas_compressed) in enumerate(tqdm(zip(llama_preds, llama_preds_comp_100))):\n",
    "    pos_ctx = qas['model_prompt'].split('\\n\\n')[2]\n",
    "    comp_pos_ctx = qas_compressed['compressed_prompt'].split('\\n\\n')[1]\n",
    "    if pos_ctx == comp_pos_ctx:\n",
    "        pass\n",
    "    else:\n",
    "        qas_indices.append(qas_i)"
   ]
  },
  {
   "cell_type": "code",
   "execution_count": null,
   "metadata": {},
   "outputs": [],
   "source": [
    "with xopen('qa_predictions/20_total_documents/nq-open-20_total_documents_llamactx_fidtoken_1.0_itself_orgidx-Llama-2-13b-chat-hf-predictions.jsonl.gz') as f:\n",
    "    preds1 = [json.loads(line) for line in f]\n",
    "with xopen('qa_predictions/20_total_documents/nq-open-20_total_documents_gold_at_0_6xcomp_v2-Llama-2-13b-chat-hf-predictions.jsonl.gz') as f:\n",
    "    preds2 = [json.loads(line) for line in f]"
   ]
  },
  {
   "cell_type": "code",
   "execution_count": null,
   "metadata": {},
   "outputs": [],
   "source": [
    "print(preds1[1]['model_answer'])"
   ]
  },
  {
   "cell_type": "code",
   "execution_count": null,
   "metadata": {},
   "outputs": [],
   "source": [
    "print(preds2[1]['model_answer'])"
   ]
  },
  {
   "cell_type": "code",
   "execution_count": null,
   "metadata": {},
   "outputs": [],
   "source": [
    "cnt = 0\n",
    "qas_i_list = []\n",
    "for qas_i, (qas, qas_compressed) in enumerate(tqdm(zip(oracle, compressed_200))):\n",
    "    a = \"Document [1](Title: \" + qas['ctxs'][0]['title'] + \") \" + qas['ctxs'][0]['text']\n",
    "    b = qas_compressed['compressed_prompt'].split('\\n\\n')[1]\n",
    "    if a != b:\n",
    "        # if qas_i not in qas_i_list:\n",
    "        #     print(\"qas_i:\", qas_i)\n",
    "        qas_i_list.append(qas_i)\n",
    "    cnt += a==b\n",
    "print(cnt)\n",
    "print(len(qas_i_list))\n",
    "qas_i_set = set(qas_i_list)"
   ]
  },
  {
   "cell_type": "code",
   "execution_count": null,
   "metadata": {},
   "outputs": [],
   "source": [
    "with xopen('qa_predictions/20_total_documents/nq-open-20_total_documents_llamactx_fidtoken_1.0_itself_orgidx-Llama-2-13b-chat-hf-predictions.jsonl.gz') as f:\n",
    "    preds1 = [json.loads(line) for line in f]\n",
    "with xopen('qa_predictions/20_total_documents/nq-open-20_total_documents_gold_at_9_6xcomp_contextonly-Llama-2-13b-chat-hf-predictions.jsonl.gz') as f:\n",
    "    preds2 = [json.loads(line) for line in f]"
   ]
  },
  {
   "cell_type": "code",
   "execution_count": null,
   "metadata": {},
   "outputs": [],
   "source": [
    "print(preds1[0]['model_prompt'])"
   ]
  },
  {
   "cell_type": "code",
   "execution_count": null,
   "metadata": {},
   "outputs": [],
   "source": [
    "with xopen('qa_predictions/20_total_documents/nq-open-20_total_documents_gold_at_0_6xcomp_contextonly_1.0_itself_orgidx-Llama-2-13b-chat-hf-predictions.jsonl.gz') as f: ## 53.069679849340865\n",
    "    preds1 = [json.loads(line) for line in f]\n",
    "with xopen('qa_predictions/20_total_documents/nq-open-20_total_documents_rev_gold_at_0_6xcomp_contextonly_1.0_itself_orgidx-Llama-2-13b-chat-hf-predictions.jsonl.gz') as f: ## 53.069679849340865\n",
    "    preds2 = [json.loads(line) for line in f]\n",
    "    \n",
    "with xopen('qa_predictions/20_total_documents/nq-open-20_total_documents_llamactx_fidtoken_1.0_itself_orgidx-Llama-2-13b-chat-hf-predictions.jsonl.gz') as f: ## 53.258003766478346\n",
    "    preds3 = [json.loads(line) for line in f]\n",
    "with xopen('qa_predictions/20_total_documents/nq-open-20_total_documents_rev_llamactx_fidtoken_1.0_itself_orgidx-Llama-2-13b-chat-hf-predictions.jsonl.gz') as f: ## 52.73069679849341\n",
    "    preds4 = [json.loads(line) for line in f]\n",
    "    "
   ]
  },
  {
   "cell_type": "code",
   "execution_count": null,
   "metadata": {},
   "outputs": [],
   "source": [
    "53.069679849340865\n",
    "53.069679849340865\n",
    "53.258003766478346"
   ]
  },
  {
   "cell_type": "code",
   "execution_count": null,
   "metadata": {},
   "outputs": [],
   "source": [
    "python -u scripts/evaluate_qa_responses.py --input-path qa_predictions/20_total_documents/nq-open-20_total_documents_gold_at_0_6xcomp_contextonly_1.0_itself_orgidx-Llama-2-13b-chat-hf-predictions.jsonl.gz &&\n",
    "python -u scripts/evaluate_qa_responses.py --input-path qa_predictions/20_total_documents/nq-open-20_total_documents_rev_gold_at_0_6xcomp_contextonly_1.0_itself_orgidx-Llama-2-13b-chat-hf-predictions.jsonl.gz &&\n",
    "python -u scripts/evaluate_qa_responses.py --input-path qa_predictions/20_total_documents/nq-open-20_total_documents_llamactx_fidtoken_1.0_itself_orgidx-Llama-2-13b-chat-hf-predictions.jsonl.gz &&\n",
    "python -u scripts/evaluate_qa_responses.py --input-path qa_predictions/20_total_documents/nq-open-20_total_documents_rev_llamactx_fidtoken_1.0_itself_orgidx-Llama-2-13b-chat-hf-predictions.jsonl.gz"
   ]
  },
  {
   "cell_type": "code",
   "execution_count": null,
   "metadata": {},
   "outputs": [],
   "source": [
    "## Processing qa_data\n",
    "\n",
    "# compressed_list = [compressed_tfidf100, compressed_tfidf50, compressed_tfidf20, compressed_tfidf10, compressed_tfidf5]\n",
    "# compressed_list = [compressed_200, compressed_190, compressed_180, compressed_170, compressed_160, compressed_150, compressed_140, compressed_130, compressed_120, compressed_100, compressed_80, compressed_60]\n",
    "# compressed_list = [fid_4, fid_5, fid_6, fid_7, fid_8, fid_9]\n",
    "compressed_list = [fid_9]\n",
    "for compressed in compressed_list:\n",
    "    org_ctx_len = []\n",
    "    comp_ctx_len = []\n",
    "    ha_cnt_org, ha_cnt_comp = 0, 0\n",
    "    for qas_i, qas_comp in enumerate(tqdm(compressed)):\n",
    "        # if qas_i not in eval_indices:\n",
    "            # continue\n",
    "        pos_ctx = qas_comp['ctxs'][0]['text']\n",
    "        comp_pos_ctx = qas_comp['ctxs'][0]['compressed_text']\n",
    "        # comp_pos_ctx = qas_comp['compressed_prompt'].split('\\n\\n')[1]\n",
    "        org_ctx_len.append(len(tokenizer.encode(pos_ctx)))\n",
    "        comp_ctx_len.append(len(tokenizer.encode(comp_pos_ctx)))\n",
    "        ## check if compressed ctx has the answer\n",
    "        ha_cnt_org += best_subspan_em(pos_ctx, qas_comp['answers'])\n",
    "        ha_cnt_comp += best_subspan_em(comp_pos_ctx, qas_comp['answers'])\n",
    "    print(np.mean(org_ctx_len), np.mean(comp_ctx_len))\n",
    "    print(f\"compress rate: {1 / (np.mean(org_ctx_len)/np.mean(comp_ctx_len)):.2f}x\")"
   ]
  },
  {
   "cell_type": "code",
   "execution_count": null,
   "metadata": {},
   "outputs": [],
   "source": [
    "for lamb in tqdm([0.9, 0.8, 0.7, 0.6, 0.5, 0.4, 0.3, 0.2, 0.1]):\n",
    "    lamb_name = str(lamb).replace('.', '')\n",
    "    exec(f'preds_fid_{lamb_name} = []')\n",
    "    with xopen(f'qa_predictions/nq-open-oracle-fid-{lamb}_new-longchat-13b-16k-predictions.jsonl.gz') as f:\n",
    "        for line in f:\n",
    "            exec(f'preds_fid_{lamb_name}.append(json.loads(line))')"
   ]
  },
  {
   "cell_type": "code",
   "execution_count": null,
   "metadata": {},
   "outputs": [],
   "source": [
    "preds_fid_sent_3 = []\n",
    "with xopen('qa_predictions/nq-open-oracle-fid_sent_top3-Llama-2-13b-chat-hf-predictions.jsonl.gz') as f:\n",
    "    for line in f:\n",
    "        preds_fid_sent_3.append(json.loads(line))"
   ]
  },
  {
   "cell_type": "code",
   "execution_count": null,
   "metadata": {},
   "outputs": [],
   "source": [
    "preds_org = []\n",
    "with xopen('qa_predictions/nq-open-oracle-Llama-2-13b-chat-hf-predictions.jsonl.gz') as f:\n",
    "    for qas_i, line in enumerate(f):\n",
    "        if qas_i in eval_indices:\n",
    "            preds_org.append(json.loads(line))"
   ]
  },
  {
   "cell_type": "code",
   "execution_count": null,
   "metadata": {},
   "outputs": [],
   "source": [
    "# preds_fid_04_new = preds_fid_04\n",
    "preds_fid_03_new = preds_fid_03"
   ]
  },
  {
   "cell_type": "code",
   "execution_count": null,
   "metadata": {},
   "outputs": [],
   "source": [
    "for topn in tqdm([3, 2, 1]):\n",
    "    topn_name = str(topn).replace('.', '')\n",
    "    exec(f'preds_tfidf_{topn_name} = []')\n",
    "    with xopen(f'qa_predictions/nq-open-oracle-tfidf_sent_top{topn}-Llama-2-13b-chat-hf-predictions.jsonl.gz') as f:\n",
    "        for line in f:\n",
    "            exec(f'preds_tfidf_{topn_name}.append(json.loads(line))')"
   ]
  },
  {
   "cell_type": "code",
   "execution_count": null,
   "metadata": {},
   "outputs": [],
   "source": [
    "preds_tfidf_3[0]"
   ]
  },
  {
   "cell_type": "code",
   "execution_count": null,
   "metadata": {},
   "outputs": [],
   "source": [
    "preds_20_6x_comp = []\n",
    "with open('qa_predictiosn/20_total_documents/')"
   ]
  },
  {
   "cell_type": "code",
   "execution_count": null,
   "metadata": {},
   "outputs": [],
   "source": [
    "## Processing qa_predictions\n",
    "# preds_list = [preds_fid_09, preds_fid_08, preds_fid_07, preds_fid_06, preds_fid_05, preds_fid_04, preds_fid_03, preds_fid_02, preds_fid_01]\n",
    "# preds_list = [preds_fid_03, preds_fid_03_new, preds_fid_04, preds_fid_04_new]\n",
    "preds_list = [preds_tfidf_3, preds_tfidf_2, preds_tfidf_1, preds_org]\n",
    "for preds in preds_list:\n",
    "    org_ctx_len = []\n",
    "    comp_ctx_len = []\n",
    "    em_list = []\n",
    "    ha_cnt_org = 0\n",
    "    ha_cnt_comp = 0\n",
    "    for qas_i, qas_pred in enumerate(tqdm(preds)):\n",
    "        # if qas_i not in eval_indices:\n",
    "            # continue\n",
    "        pos_ctx = qas_pred['ctxs'][0]['text']\n",
    "        if qas_pred['ctxs'][0].get('compressed_text'):\n",
    "            comp_pos_ctx = qas_pred['ctxs'][0]['compressed_text']\n",
    "            comp_ctx_len.append(len(tokenizer.encode(comp_pos_ctx)))\n",
    "            ha_cnt_comp += best_subspan_em(comp_pos_ctx, qas_pred['answers'])\n",
    "        # comp_pos_ctx = qas_pred['compressed_prompt'].split('\\n\\n')[1]\n",
    "        org_ctx_len.append(len(tokenizer.encode(pos_ctx)))\n",
    "        model_answer = qas_pred['model_answer']\n",
    "        # model_answer = qas_pred['model_answer'].split('\\n')[0]\n",
    "        em_list.append(best_subspan_em(model_answer, qas_pred['answers']))\n",
    "        ## check if compressed ctx has the answer\n",
    "        ha_cnt_org += best_subspan_em(pos_ctx, qas_pred['answers'])\n",
    "    print(f\"Org. context token length: {np.mean(org_ctx_len):.2f}, compressed: {np.mean(comp_ctx_len):.2f} (compress rate: {1 / (np.mean(org_ctx_len)/np.mean(comp_ctx_len)):.2f}x)\")\n",
    "    print(f\"Subspan_em: {100*np.mean(em_list):.2f} (Org. context has answer: {int(ha_cnt_org)}/{len(preds)}, compressed: {int(ha_cnt_comp)}/{len(preds)})\")"
   ]
  },
  {
   "cell_type": "code",
   "execution_count": null,
   "metadata": {},
   "outputs": [],
   "source": []
  },
  {
   "cell_type": "code",
   "execution_count": null,
   "metadata": {},
   "outputs": [],
   "source": [
    "best_subspan_em(preds_fid_9[0]['ctxs'][0]['compressed_text'], preds_fid_9[0]['answers'])"
   ]
  },
  {
   "cell_type": "code",
   "execution_count": null,
   "metadata": {},
   "outputs": [],
   "source": [
    "qas_i = 1\n",
    "print(preds_fid_9[qas_i]['ctxs'][0]['compressed_text'],  preds_fid_9[qas_i]['answers'])\n",
    "best_subspan_em(preds_fid_9[qas_i]['ctxs'][0]['compressed_text'], preds_fid_9[qas_i]['answers'])"
   ]
  },
  {
   "cell_type": "code",
   "execution_count": null,
   "metadata": {},
   "outputs": [],
   "source": [
    "sorted(list(eval_indices))[1]"
   ]
  },
  {
   "cell_type": "code",
   "execution_count": null,
   "metadata": {},
   "outputs": [],
   "source": [
    "qas_compressed['ctxs'][0]['text'], qas_preds['answers']"
   ]
  },
  {
   "cell_type": "code",
   "execution_count": null,
   "metadata": {},
   "outputs": [],
   "source": [
    "sent_oa_preds_llama = []\n",
    "# qa_predictions/nq-open-oracle-sent_oa-Llama-2-13b-chat-hf-predictions.jsonl.gz\n",
    "with xopen('qa_predictions/nq-open-oracle-sent_oa-Llama-2-13b-chat-hf-predictions.jsonl.gz') as f:\n",
    "    for line in f:\n",
    "        sent_oa_preds_llama.append(json.loads(line))\n",
    "\n",
    "sent_oa_preds_longchat = []\n",
    "# qa_predictions/nq-open-oracle-sent_oa-longchat-13b-16k-predictions.jsonl.gz\n",
    "with xopen('qa_predictions/nq-open-oracle-sent_oa-longchat-13b-16k-predictions.jsonl.gz') as f:\n",
    "    for line in f:\n",
    "        sent_oa_preds_longchat.append(json.loads(line))\n",
    "\n",
    "sent_oa_preds_llama_upstage = []\n",
    "# qa_predictions/nq-open-oracle-sent_oa-llama-30b-instruct-predictions.jsonl.gz\n",
    "with xopen('qa_predictions/nq-open-oracle-sent_oa-llama-30b-instruct-predictions.jsonl.gz') as f:\n",
    "    for line in f:\n",
    "        sent_oa_preds_llama_upstage.append(json.loads(line))"
   ]
  },
  {
   "cell_type": "code",
   "execution_count": null,
   "metadata": {},
   "outputs": [],
   "source": [
    "oa_preds_llama = []\n",
    "# qa_predictions/nq-open-oracle-oa-Llama-2-13b-chat-hf-predictions.jsonl.gz\n",
    "with xopen('qa_predictions/nq-open-oracle-oa-Llama-2-13b-chat-hf-predictions.jsonl.gz') as f:\n",
    "    for line in f:\n",
    "        oa_preds_llama.append(json.loads(line))"
   ]
  },
  {
   "cell_type": "code",
   "execution_count": null,
   "metadata": {},
   "outputs": [],
   "source": [
    "1/8.52"
   ]
  },
  {
   "cell_type": "code",
   "execution_count": null,
   "metadata": {},
   "outputs": [],
   "source": [
    "preds_list = [oa_preds_llama, sent_oa_preds_llama, sent_oa_preds_longchat, sent_oa_preds_llama_upstage]\n",
    "for preds in preds_list:\n",
    "    org_ctx_len = []\n",
    "    comp_ctx_len = []\n",
    "    for qas_i, qas in enumerate(tqdm(preds)):\n",
    "        title = qas['ctxs'][0]['title']\n",
    "        text = qas['ctxs'][0]['text']\n",
    "        pos_ctx = f\"Document [1](Title: {title}) {text}\"\n",
    "        \n",
    "        title_rm_answers = qas['ctxs'][0]['title_rm_answers']\n",
    "        text_rm_answers = qas['ctxs'][0]['text_rm_answers']\n",
    "    \n",
    "        comp_pos_ctx = f\"Document [1](Title: {title_rm_answers}) {text_rm_answers}\"\n",
    "        org_ctx_len.append(len(tokenizer.encode(pos_ctx)))\n",
    "        comp_ctx_len.append(len(tokenizer.encode(comp_pos_ctx)))\n",
    "    print(np.mean(org_ctx_len), np.mean(comp_ctx_len))\n",
    "    print(f\"compress rate: {np.mean(org_ctx_len)/np.mean(comp_ctx_len):.2f}x\")"
   ]
  },
  {
   "cell_type": "code",
   "execution_count": null,
   "metadata": {},
   "outputs": [],
   "source": [
    "orc_preds = []\n",
    "with xopen('qa_predictions/nq-open-oracle-Llama-2-13b-chat-hf-predictions.jsonl.gz') as f:\n",
    "    for line in f:\n",
    "        orc_preds.append(json.loads(line))"
   ]
  },
  {
   "cell_type": "code",
   "execution_count": null,
   "metadata": {},
   "outputs": [],
   "source": [
    "for comp in [200, 190, 180, 170, 160, 150, 140, 130, 120, 100, 80, 60]:\n",
    "    exec(f'preds_comp_{comp} = []')\n",
    "    with xopen(f'qa_predictions/nq-open-oracle-compressed-{comp}-Llama-2-13b-chat-hf-predictions.jsonl.gz') as f:\n",
    "        for line in f:\n",
    "            exec(f'preds_comp_{comp}.append(json.loads(line))')\n",
    "for tfidf in [1.0, 0.5, 0.2, 0.1, 0.05]:\n",
    "    name_tfidf = int(tfidf*100)\n",
    "    exec(f'preds_tfidf_{name_tfidf} = []')\n",
    "    with xopen(f'qa_predictions/nq-open-oracle-compressed-tfidf-{tfidf}-Llama-2-13b-chat-hf-predictions.jsonl.gz') as f:\n",
    "        for line in f:\n",
    "            exec(f'preds_tfidf_{name_tfidf}.append(json.loads(line))')\n",
    "\n",
    "# preds_tfidf_100 = []\n",
    "# with xopen(\"qa_predictions/nq-open-oracle-compressed-tfidf-1.0-Llama-2-13b-chat-hf-predictions.jsonl.gz\") as f:\n",
    "#     for line in f:\n",
    "#         preds_tfidf_100.append(json.loads(line))\n",
    "\n",
    "# preds_tfidf_50 = []\n",
    "# with xopen(\"qa_predictions/nq-open-oracle-compressed-tfidf-0.5-Llama-2-13b-chat-hf-predictions.jsonl.gz\") as f:\n",
    "#     for line in f:\n",
    "#         preds_tfidf_50.append(json.loads(line))\n",
    "\n",
    "# preds_tfidf_20 = []\n",
    "# with xopen(\"qa_predictions/nq-open-oracle-compressed-tfidf-0.2-Llama-2-13b-chat-hf-predictions.jsonl.gz\") as f:\n",
    "#     for line in f:\n",
    "#         preds_tfidf_20.append(json.loads(line))\n",
    "        \n",
    "# preds_tfidf_10 = []\n",
    "# with xopen(\"qa_predictions/nq-open-oracle-compressed-tfidf-0.1-Llama-2-13b-chat-hf-predictions.jsonl.gz\") as f:\n",
    "#     for line in f:\n",
    "#         preds_tfidf_10.append(json.loads(line))\n",
    "\n",
    "# preds_tfidf_5 = []\n",
    "# with xopen(\"qa_predictions/nq-open-oracle-compressed-tfidf-0.05-Llama-2-13b-chat-hf-predictions.jsonl.gz\") as f:\n",
    "#     for line in f:\n",
    "#         preds_tfidf_5.append(json.loads(line))\n",
    "        "
   ]
  },
  {
   "cell_type": "code",
   "execution_count": null,
   "metadata": {},
   "outputs": [],
   "source": [
    "from lost_in_the_middle.metrics import best_subspan_em"
   ]
  },
  {
   "cell_type": "code",
   "execution_count": null,
   "metadata": {},
   "outputs": [],
   "source": [
    "preds_list = [\"preds_tfidf_5\", \"preds_tfidf_10\", \"preds_tfidf_20\", \"preds_tfidf_50\", \"preds_tfidf_100\"]\n",
    "for preds_name in preds_list:\n",
    "    preds = eval(preds_name)\n",
    "    cnt_1, cnt_2, ans_cnt = 0, 0, 0\n",
    "    for qas in preds:\n",
    "        cnt_1 += best_subspan_em(qas['demonstration'], qas['answer'])\n",
    "        cnt_2 += best_subspan_em(qas['compressed_prompt'], qas['answer'])\n",
    "        ans_cnt += int(best_subspan_em(qas['model_answer'], qas['answer']))\n",
    "    # print(cnt_1, len(preds_tfidf_100))\n",
    "    print(f\"{preds_name} {cnt_2}/{len(preds)}\", f\"{100 * (cnt_2/len(preds)):.2f}% Span EM: {ans_cnt}/{len(preds)}\", f\"{100 * (ans_cnt/len(preds)):.2f}%\")\n",
    "    "
   ]
  },
  {
   "cell_type": "code",
   "execution_count": null,
   "metadata": {},
   "outputs": [],
   "source": [
    "preds_list = [\"orc_preds\", \"preds_comp_200\", \"preds_comp_190\", \"preds_comp_180\", \"preds_comp_170\", \"preds_comp_160\", \"preds_comp_150\", \"preds_comp_140\", \"preds_comp_130\", \"preds_comp_120\", \"preds_comp_100\", \"preds_comp_80\", \"preds_comp_60\"]\n",
    "for preds_name in preds_list:\n",
    "    preds = eval(preds_name)\n",
    "    cnt_1, cnt_2, ans_cnt = 0, 0, 0\n",
    "    cnt_3, cnt_4 = [], []\n",
    "    \n",
    "    for qas in preds:\n",
    "        if qas.get('demonstration') is None:\n",
    "            qas['demonstration'] = f\"Document [1](Title: {qas['ctxs'][0]['title']}) {qas['ctxs'][0]['text']}\"\n",
    "        cnt_1 += int(best_subspan_em(qas['demonstration'], qas['answer'])) ## If answer is in the demo (462 out of 462)\n",
    "        \n",
    "        if qas.get('compressed_prompt') is None:\n",
    "            comp_has_answer = 1\n",
    "            pass\n",
    "        else:\n",
    "            comp_has_answer = int(best_subspan_em(qas['compressed_prompt'], qas['answer']))\n",
    "            cnt_2 += comp_has_answer\n",
    "        if comp_has_answer:\n",
    "            cnt_3.append(int(best_subspan_em(qas['model_answer'], qas['answer'])))\n",
    "        else:\n",
    "            cnt_4.append(int(best_subspan_em(qas['model_answer'], qas['answer'])))\n",
    "            \n",
    "        ans_cnt += int(best_subspan_em(qas['model_answer'], qas['answer']))\n",
    "    # print(cnt_1, len(preds_tfidf_100))\n",
    "    print(f\"{preds_name} {cnt_2}/{len(preds)}\", f\"{100 * (cnt_2/len(preds)):.2f}% Span EM: {ans_cnt}/{len(preds)}\", f\"{100 * (ans_cnt/len(preds)):.2f}%, {100 * (np.mean(cnt_3)):.2f}% ({len(cnt_3)}), {100 * (np.mean(cnt_4)):.2f}% ({len(cnt_4)})\")\n",
    "    "
   ]
  },
  {
   "cell_type": "code",
   "execution_count": null,
   "metadata": {},
   "outputs": [],
   "source": [
    "with xopen('qa_predictions/nq-open-oracle-rm-longchat-13b-16k-predictions.jsonl.gz') as f:\n",
    "    qa_preds = [json.loads(line) for line in f]"
   ]
  },
  {
   "cell_type": "code",
   "execution_count": null,
   "metadata": {},
   "outputs": [],
   "source": [
    "indices = []\n",
    "for idx, qas in enumerate(qa_preds):\n",
    "    if best_subspan_em(qas['model_answer'], qas['answers']):\n",
    "        indices.append(idx)"
   ]
  },
  {
   "cell_type": "code",
   "execution_count": null,
   "metadata": {},
   "outputs": [],
   "source": [
    "qa_preds[indices[1]]"
   ]
  },
  {
   "cell_type": "code",
   "execution_count": null,
   "metadata": {},
   "outputs": [],
   "source": [
    "i = 59\n",
    "if int(best_subspan_em(eval(preds_list[-3])[i]['compressed_prompt'], eval(preds_list[-3])[i]['answer'])):\n",
    "    print(eval(preds_list[-3])[i]['compressed_prompt'].split('\\n\\n')[1] == eval(preds_list[-3])[i]['demonstration'])\n",
    "    print(eval(preds_list[-3])[i]['answer'])\n",
    "    print(eval(preds_list[-3])[i]['demonstration'])\n",
    "    print(eval(preds_list[-3])[i]['compressed_prompt'])"
   ]
  },
  {
   "cell_type": "code",
   "execution_count": null,
   "metadata": {},
   "outputs": [],
   "source": [
    "import matplotlib.pyplot as plt\n",
    "\n",
    "# Convert percentages in A to decimal form for direct comparison\n",
    "A = [97.90, 96.40, 93.70, 93.70, 93.10, 89.50, 87.50, 85.70, 85.40, 80.60, 75.60, 61.60]\n",
    "\n",
    "# Given values for B\n",
    "B = [0.97, 0.96, 0.93, 0.89, 0.85, 0.81, 0.77, 0.74, 0.69, 0.64, 0.6, 0.44]\n",
    "B_percent = [x * 100 for x in B]  # Convert A from percentages to decimals\n",
    "\n",
    "X = [94.3, 92.6, 90.1, 87.0, 84.0, 81.3, 78.1, 75.8, 73.5, 67.6, 60.2, 50.0]\n",
    "# Creating a plot\n",
    "plt.figure(figsize=(10, 6))\n",
    "plt.plot(X[::-1], A, label='vs. Oracle', marker='o')\n",
    "plt.plot(X[::-1], B_percent, label='Recall@1', marker='x')\n",
    "plt.xlabel('Index')\n",
    "plt.ylabel('Percentage')\n",
    "plt.legend()\n",
    "plt.grid(True)\n",
    "\n",
    "# Display the plot\n",
    "plt.show()\n",
    "\n"
   ]
  },
  {
   "cell_type": "markdown",
   "metadata": {},
   "source": []
  },
  {
   "cell_type": "code",
   "execution_count": null,
   "metadata": {},
   "outputs": [],
   "source": [
    "python -u scripts/evaluate_qa_responses.py --input-path qa_predictions/nq-open-oracle-sent_oa-Llama-2-13b-chat-hf-predictions.jsonl.gz &&\n",
    "python -u scripts/evaluate_qa_responses.py --input-path qa_predictions/nq-open-oracle-sent_oa-longchat-13b-16k-predictions.jsonl.gz &&\n",
    "python -u scripts/evaluate_qa_responses.py --input-path qa_predictions/nq-open-oracle-sent_oa-llama-30b-instruct-predictions.jsonl.gz"
   ]
  },
  {
   "cell_type": "code",
   "execution_count": null,
   "metadata": {},
   "outputs": [],
   "source": [
    "preds_list = [\"preds_tfidf_100\", \"preds_tfidf_50\", \"preds_tfidf_20\", \"preds_tfidf_10\", \"preds_tfidf_5\"]\n",
    "for preds_name in preds_list:\n",
    "    preds = eval(preds_name)\n",
    "    cnt_1 = 0\n",
    "    cnt_2 = 0\n",
    "    for qas in preds:\n",
    "        cnt_1 += int(best_subspan_em(qas['demonstration'], qas['answer']))\n",
    "        cnt_2 += int(best_subspan_em(qas['compressed_prompt'], qas['answer']))\n",
    "    # print(cnt_1, len(preds_tfidf_100))\n",
    "    print(f\"{preds_name} {cnt_2}/{len(preds)}\", f\"{100 * (cnt_2/len(preds)):.2f}%\") "
   ]
  },
  {
   "cell_type": "code",
   "execution_count": null,
   "metadata": {},
   "outputs": [],
   "source": [
    "for preds in [preds_comp_100, preds_comp_50, preds_comp_20, preds_comp_10, preds_comp_5]:\n",
    "    cnt_1 = 0\n",
    "    cnt_2 = 0\n",
    "    for qas in preds:\n",
    "        cnt_1 += best_subspan_em(qas['demonstration'], qas['answer'])\n",
    "        cnt_2 += best_subspan_em(qas['compressed_prompt'], qas['answer'])\n",
    "        \n",
    "    print(cnt_1, len(preds_tfidf_100))\n",
    "    print(cnt_2, len(preds_tfidf_100), f\"{cnt_2/len(preds_tfidf_100)}\") "
   ]
  },
  {
   "cell_type": "code",
   "execution_count": null,
   "metadata": {},
   "outputs": [],
   "source": [
    "import pickle\n",
    "print(len(eval_indices))\n",
    "with open('eval_indices_upstage_llama30b_compressed200.pkl', 'wb') as f:\n",
    "    pickle.dump(eval_indices, f)"
   ]
  },
  {
   "cell_type": "code",
   "execution_count": null,
   "metadata": {},
   "outputs": [],
   "source": [
    "import pickle\n",
    "with open('eval_indices_compressed200.pkl', 'rb') as f:\n",
    "    eval_indices = pickle.load(f)\n",
    "    print(len(eval_indices))    "
   ]
  },
  {
   "cell_type": "code",
   "execution_count": null,
   "metadata": {},
   "outputs": [],
   "source": [
    "preds = []\n",
    "with xopen('qa_predictions/nq-open-oracle-llama-30b-instruct-closedbook-predictions.jsonl.gz') as f:\n",
    "    for line in f:\n",
    "        preds.append(json.loads(line))\n",
    "        \n",
    "em_list = []\n",
    "closed_correct_indices = set()\n",
    "for i, d in enumerate(preds):\n",
    "    # if i not in real_qas_indices:\n",
    "    #     continue\n",
    "    model_answer = d['model_answer']\n",
    "    # model_answer = model_answer.split('\\n')[0].strip()\n",
    "    gold_answers = d['answers']\n",
    "    correct = best_subspan_em(prediction=model_answer, ground_truths=gold_answers)\n",
    "    if correct:\n",
    "        closed_correct_indices.add(i)\n",
    "    em_list.append(correct)\n",
    "em_array = np.array(em_list)\n",
    "print('EM:', em_array.mean() * 100)"
   ]
  },
  {
   "cell_type": "code",
   "execution_count": null,
   "metadata": {},
   "outputs": [],
   "source": [
    "all_indices = set(np.arange(2655).tolist())\n",
    "eval_indices = (all_indices - closed_correct_indices) & qas_i_set\n",
    "len(eval_indices)"
   ]
  },
  {
   "cell_type": "code",
   "execution_count": null,
   "metadata": {},
   "outputs": [],
   "source": [
    "# llama_preds_comp_100 = []\n",
    "# with xopen('qa_predictions/nq-open-oracle-compressed-100-Llama-2-13b-chat-hf-predictions.jsonl.gz') as f:\n",
    "#     for line in f:\n",
    "#         llama_preds_comp_100.append(json.loads(line))\n",
    "\n",
    "preds = []\n",
    "# with xopen('qa_predictions/nq-open-oracle-longchat-13b-16k-predictions.jsonl.gz') as f:\n",
    "with xopen('qa_predictions/nq-open-oracle-compressed-100-Llama-2-13b-chat-hf-predictions.jsonl.gz') as f:\n",
    "# with xopen('qa_predictions/nq-open-oracle-Llama-2-13b-chat-hf-predictions.jsonl.gz') as f:\n",
    "    for line in f:\n",
    "        preds.append(json.loads(line))\n",
    "em_list = []\n",
    "em_list_in_prompt= []\n",
    "for i, d in enumerate(preds):\n",
    "    model_answer = d['model_answer']\n",
    "    # if i in closed_correct_indices:\n",
    "    #     continue\n",
    "    # if i not in qas_i_set:\n",
    "    #     continue\n",
    "    if i not in eval_indices:\n",
    "        continue\n",
    "    # model_answer = model_answer.split('\\n')[0].strip()\n",
    "    gold_answers = d['answer']\n",
    "    correct = best_subspan_em(prediction=model_answer, ground_truths=gold_answers)\n",
    "    correct_in_prompt = best_subspan_em(prediction=d['model_prompt'], ground_truths=gold_answers)\n",
    "    \n",
    "    em_list.append(correct)\n",
    "    em_list_in_prompt.append(correct_in_prompt)\n",
    "    \n",
    "    if correct and not correct_in_prompt:\n",
    "        print(i)\n",
    "        print(d['demonstration'])     \n",
    "        print(d['model_prompt'])\n",
    "        print(model_answer)\n",
    "        print(gold_answers)\n",
    "        break\n",
    "em_array = np.array(em_list)\n",
    "print('EM:', em_array.mean() * 100)\n",
    "print(f'EM: {em_array.mean() * 100:.1f} / # Questions: {em_array.shape[0]}')\n",
    "\n",
    "em_array_in_prompt = np.array(em_list_in_prompt)\n",
    "print('EM:', em_array_in_prompt.mean() * 100)\n",
    "print(f'EM: {em_array_in_prompt.mean() * 100:.1f} / # Questions: {em_array_in_prompt.shape[0]}')"
   ]
  },
  {
   "cell_type": "code",
   "execution_count": null,
   "metadata": {},
   "outputs": [],
   "source": [
    "# for token_len in [200, 190, 180, 170, 160, 150, 140, 130, 120, 100, 80, 60]:\n",
    "# for token_len in [200, 180, 160, 140, 120, 100, 80, 60]:\n",
    "\n",
    "for threshold in [0.5, 0.2, 0.1, 0.05]:\n",
    "# for token_len in [200, 180, 160, 140, 120, 100, 80, 60]:\n",
    "    preds = []\n",
    "    with xopen(f'qa_predictions/nq-open-oracle-compressed-{token_len}-llama-30b-instruct-predictions.jsonl.gz') as f:\n",
    "        for line in f:\n",
    "            preds.append(json.loads(line))\n",
    "\n",
    "    em_list = []\n",
    "    for i, d in enumerate(preds):\n",
    "        model_answer = d['model_answer']\n",
    "        # if i in closed_correct_indices:\n",
    "        #     continue\n",
    "        # if i not in qas_i_set:\n",
    "        #     continue\n",
    "        # if i not in eval_indices:\n",
    "        #     continue\n",
    "        # model_answer = model_answer.split('\\n')[0].strip()\n",
    "        gold_answers = d['answer']\n",
    "        correct = best_subspan_em(prediction=model_answer, ground_truths=gold_answers)\n",
    "        em_list.append(correct)\n",
    "    em_array = np.array(em_list)\n",
    "    print(f\"{token_len} {em_array.mean() * 100:.1f}\")\n",
    "    # print(f'EM: {em_array.mean() * 100:.1f} / # Questions: {em_array.shape[0]}')"
   ]
  },
  {
   "cell_type": "code",
   "execution_count": null,
   "metadata": {},
   "outputs": [],
   "source": [
    "cnt = 0\n",
    "correct_list = []\n",
    "correct_compt_list = []\n",
    "qas_indices = []\n",
    "org_ctx_len = []\n",
    "comp_ctx_len = []\n",
    "equal_prompt_diff_ans = []\n",
    "for qas_i, (qas, qas_compressed) in enumerate(tqdm(zip(oracle, compressed_180))):\n",
    "    pos_ctx = qas['model_prompt'].split('\\n\\n')[2]\n",
    "    comp_pos_ctx = qas_compressed['compressed_prompt'].split('\\n\\n')[1]\n",
    "    org_ctx_len.append(len(tokenizer.encode(pos_ctx)))\n",
    "    comp_ctx_len.append(len(tokenizer.encode(comp_pos_ctx)))\n",
    "    if pos_ctx == comp_pos_ctx:\n",
    "        # if qas['model_answer'] != qas_compressed['model_answer']:\n",
    "        #     equal_prompt_diff_ans.append((qas, qas_compressed))\n",
    "        cnt += 1\n",
    "    else:\n",
    "        qas_indices.append(qas_i)\n",
    "        # model_answer = qas['model_answer'].split('\\n')[0].strip()\n",
    "        # gold_answers = qas['answers']\n",
    "        # model_answer_comp = qas_compressed['model_answer'].split('\\n')[0].strip()\n",
    "        # correct = best_subspan_em(prediction=model_answer, ground_tbruths=gold_answers)\n",
    "        # correct_comp = best_subspan_em(prediction=model_answer_comp, ground_truths=gold_answers)\n",
    "        # correct_list.append(correct)\n",
    "        # correct_compt_list.append(correct_comp)\n",
    "        \n",
    "print(cnt)"
   ]
  },
  {
   "cell_type": "code",
   "execution_count": null,
   "metadata": {},
   "outputs": [],
   "source": [
    "with open('compressed_qa_data/base/0510_128_0.15_temp/longbench_trec_fid_2000_ctxTrue_sentTrue0.15_tokFalse1.0_orgidxFalse.json') as f:\n",
    "    temp = json.load(f)\n",
    "\n",
    "with open('compressed_qa_data/0510_128_0.15/longbench_trec_fid_2000_ctxTrue_sentTrue0.15_tokFalse0.95.json') as f:\n",
    "    org = json.load(f)\n"
   ]
  },
  {
   "cell_type": "code",
   "execution_count": null,
   "metadata": {},
   "outputs": [],
   "source": [
    "len_list = []\n",
    "for qas in org:\n",
    "    len_list.append(len(tokenizer.encode(qas['compressed_prompt'])))\n",
    "print(np.mean(len_list))\n",
    "\n",
    "len_list = []\n",
    "for qas in temp:\n",
    "    len_list.append(len(tokenizer.encode(qas['compressed_prompt'])))\n",
    "print(np.mean(len_list))"
   ]
  },
  {
   "cell_type": "code",
   "execution_count": null,
   "metadata": {},
   "outputs": [],
   "source": [
    "for i in range(100):\n",
    "    match = org[0]['compressed_prompt'][i*100:(i+1)*100] == temp[0]['compressed_prompt'][i*100:(i+1)*100]\n",
    "    if not match:\n",
    "        print(i)\n",
    "        break"
   ]
  },
  {
   "cell_type": "code",
   "execution_count": null,
   "metadata": {},
   "outputs": [],
   "source": [
    "len(org[0]['ctxs'])"
   ]
  },
  {
   "cell_type": "code",
   "execution_count": null,
   "metadata": {},
   "outputs": [],
   "source": [
    "temp[0]['ctxs'][40]"
   ]
  },
  {
   "cell_type": "code",
   "execution_count": null,
   "metadata": {},
   "outputs": [],
   "source": [
    "for ctx in temp[0]['ctxs']:\n",
    "    if \"When was Queen Victoria born\" in ctx['text']:\n",
    "        print(ctx)"
   ]
  },
  {
   "cell_type": "code",
   "execution_count": null,
   "metadata": {},
   "outputs": [],
   "source": [
    "org_lines = org[0]['compressed_prompt'].split('\\n')"
   ]
  },
  {
   "cell_type": "code",
   "execution_count": null,
   "metadata": {},
   "outputs": [],
   "source": [
    "include = []\n",
    "for lin in org_lines:\n",
    "    include.append(lin in temp[0]['compressed_prompt'])"
   ]
  },
  {
   "cell_type": "code",
   "execution_count": null,
   "metadata": {},
   "outputs": [],
   "source": [
    "len(org[0]['compressed_prompt'])"
   ]
  },
  {
   "cell_type": "code",
   "execution_count": null,
   "metadata": {},
   "outputs": [],
   "source": [
    "sent_tokenize(org[0]['ctxs'][0]['text'].split('\\n')[10])"
   ]
  },
  {
   "cell_type": "code",
   "execution_count": null,
   "metadata": {},
   "outputs": [],
   "source": [
    "temp[0]['question'], org[0]['question']"
   ]
  },
  {
   "cell_type": "code",
   "execution_count": null,
   "metadata": {},
   "outputs": [],
   "source": [
    "lines_in_org_notin_temp = np.array(org_lines)[np.where(np.array(include)==False)[0]].tolist()"
   ]
  },
  {
   "cell_type": "code",
   "execution_count": null,
   "metadata": {},
   "outputs": [],
   "source": [
    "lines_in_org_notin_temp"
   ]
  },
  {
   "cell_type": "code",
   "execution_count": null,
   "metadata": {},
   "outputs": [],
   "source": [
    "org[0]['ctxs'][12]"
   ]
  },
  {
   "cell_type": "code",
   "execution_count": null,
   "metadata": {},
   "outputs": [],
   "source": [
    "temp[0]['ctxs'][1]"
   ]
  },
  {
   "cell_type": "code",
   "execution_count": null,
   "metadata": {},
   "outputs": [],
   "source": [
    "for i, ctx in enumerate(org[0]['ctxs']):\n",
    "    if lines_in_org_notin_temp[0] in ctx['text']:\n",
    "        print(i)\n",
    "        break"
   ]
  },
  {
   "cell_type": "code",
   "execution_count": null,
   "metadata": {},
   "outputs": [],
   "source": [
    "for i, ctx in enumerate(temp[0]['ctxs']):\n",
    "    print(i, i, i, i, i)\n",
    "    flag = False\n",
    "    for q in lines_in_org_notin_temp:\n",
    "        print(q)\n",
    "        if q in ctx['text']:\n",
    "            print(i)\n",
    "            flag = True\n",
    "            break\n",
    "    if not flag:\n",
    "        print('???')"
   ]
  },
  {
   "cell_type": "code",
   "execution_count": null,
   "metadata": {},
   "outputs": [],
   "source": [
    "np.array(org_lines)[np.where(np.array(include) == False)[0]]"
   ]
  },
  {
   "cell_type": "code",
   "execution_count": null,
   "metadata": {},
   "outputs": [],
   "source": [
    "i = 8\n",
    "print(temp[0]['compressed_prompt'][i*100:(i+1)*100])\n",
    "print()\n",
    "print(org[0]['compressed_prompt'][i*100:(i+1)*100])\n"
   ]
  }
 ],
 "metadata": {
  "kernelspec": {
   "display_name": "base",
   "language": "python",
   "name": "python3"
  },
  "language_info": {
   "codemirror_mode": {
    "name": "ipython",
    "version": 3
   },
   "file_extension": ".py",
   "mimetype": "text/x-python",
   "name": "python",
   "nbconvert_exporter": "python",
   "pygments_lexer": "ipython3",
   "version": "3.10.11"
  }
 },
 "nbformat": 4,
 "nbformat_minor": 2
}
